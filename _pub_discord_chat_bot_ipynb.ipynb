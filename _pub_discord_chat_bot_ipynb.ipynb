{
  "cells": [
    {
      "cell_type": "markdown",
      "metadata": {
        "id": "view-in-github",
        "colab_type": "text"
      },
      "source": [
        "<a href=\"https://colab.research.google.com/github/shauliu19990930/Note/blob/master/_pub_discord_chat_bot_ipynb.ipynb\" target=\"_parent\"><img src=\"https://colab.research.google.com/assets/colab-badge.svg\" alt=\"Open In Colab\"/></a>"
      ]
    },
    {
      "cell_type": "code",
      "execution_count": null,
      "metadata": {
        "colab": {
          "background_save": true,
          "base_uri": "https://localhost:8080/"
        },
        "id": "DTXjc6g0j_m0",
        "outputId": "dbe208bd-b894-4534-9536-741975c818c4"
      },
      "outputs": [
        {
          "name": "stdout",
          "output_type": "stream",
          "text": [
            "b'{\"id\": \"1028084586934173696\", \"type\": 0, \"content\": \"gm\", \"channel_id\": \"994279630179663892\", \"author\": {\"id\": \"951445978135810048\", \"username\": \"Shaunnzzzz\", \"avatar\": \"34ea62826a9916fdb1581b2e299f7d5d\", \"avatar_decoration\": null, \"discriminator\": \"1908\", \"public_flags\": 0}, \"attachments\": [], \"embeds\": [], \"mentions\": [], \"mention_roles\": [], \"pinned\": false, \"mention_everyone\": false, \"tts\": false, \"timestamp\": \"2022-10-07T23:21:06.413000+00:00\", \"edited_timestamp\": null, \"flags\": 0, \"components\": [], \"nonce\": \"994248383910461946\", \"referenced_message\": null}'\n",
            "发送成功！！{\"content\": \"gm\", \"nonce\": \"994248383910461946\", \"tts\": false}\n",
            "b'{\"id\": \"1028084587823366155\", \"type\": 0, \"content\": \"gm\", \"channel_id\": \"912252690392838144\", \"author\": {\"id\": \"951445978135810048\", \"username\": \"Shaunnzzzz\", \"avatar\": \"34ea62826a9916fdb1581b2e299f7d5d\", \"avatar_decoration\": null, \"discriminator\": \"1908\", \"public_flags\": 0}, \"attachments\": [], \"embeds\": [], \"mentions\": [], \"mention_roles\": [], \"pinned\": false, \"mention_everyone\": false, \"tts\": false, \"timestamp\": \"2022-10-07T23:21:06.625000+00:00\", \"edited_timestamp\": null, \"flags\": 0, \"components\": [], \"nonce\": \"912262959592472549\", \"referenced_message\": null}'\n",
            "发送成功！！{\"content\": \"gm\", \"nonce\": \"912262959592472549\", \"tts\": false}\n",
            "b'{\"id\": \"1028084589253644310\", \"type\": 0, \"content\": \"gm\", \"channel_id\": \"1009650905878102057\", \"author\": {\"id\": \"951445978135810048\", \"username\": \"Shaunnzzzz\", \"avatar\": \"34ea62826a9916fdb1581b2e299f7d5d\", \"avatar_decoration\": null, \"discriminator\": \"1908\", \"public_flags\": 0}, \"attachments\": [], \"embeds\": [], \"mentions\": [], \"mention_roles\": [], \"pinned\": false, \"mention_everyone\": false, \"tts\": false, \"timestamp\": \"2022-10-07T23:21:06.966000+00:00\", \"edited_timestamp\": null, \"flags\": 0, \"components\": [], \"nonce\": \"100903492450796589\", \"referenced_message\": null}'\n",
            "发送成功！！{\"content\": \"gm\", \"nonce\": \"100903492450796589\", \"tts\": false}\n"
          ]
        }
      ],
      "source": [
        "# -*- coding: utf-8 -*-\n",
        "\"\"\"\n",
        "@Author  : dami\n",
        "@File    : discord-chat-bot.py\n",
        "@Time    : 2/2/22 12:34 PM\n",
        "@desc    : discord自动聊天\n",
        "\"\"\"\n",
        "import requests\n",
        "import json\n",
        "import random\n",
        "import time\n",
        "import traceback\n",
        "\n",
        "\"\"\" ************ 配置项  开始  ************ \"\"\"\n",
        "# 聊天的时间间隔（10-30s，可自行修改）\n",
        "time_min = 10\n",
        "time_max = 30\n",
        "# 把你想让机器人说的内容写在这里，(随机发送)单引号里写内容，逗号隔开····································································································································································································\n",
        "\n",
        "\n",
        "globals_message_list = [\"gm\"]\n",
        "channels_id_list = [\"994279630179663892\", \"912252690392838144\",\"1009650905878102057\"] #gm频道 每天这两行个运行一次 运行时确保某一行是注释状态 记得注释下边的\n",
        "\n",
        "\n",
        "#globals_message_list = [\"早上好\"] # 根据时间修改内容 早上好or 晚上好 \n",
        "#channels_id_list = [\"974287948696657920\", \"1008549811303223328\", \"917618750872772649\", \"1000152399652073602\", \"915013689604710420\",\"999432090703634442\",\"1006209026335457290\",\"1020590378262466620\",\"1021336835642884167\",\"1020395095641563166\"] # 早上好 晚上好频道 这一行和下一行一起使用\n",
        "\n",
        "# 支持多个 authorization，意味着支持多账号\n",
        "authorization_list = [\"OTUxNDQ1OTc4MTM1ODEwMDQ4.GM6SAg.B-DhdcCPA_XPJF4_b1U5fGTMDWepRewZX13xiE\"]\n",
        "# 是否走代理？True为走代理，False不走\n",
        "is_proxy = False\n",
        "# 本地代理设置\n",
        "proxies = {\"http\": \"http://127.0.0.1:41091\", \"https\": \"https://127.0.0.1:41091\"}\n",
        "\"\"\" ************ 配置项  结束  ************ \"\"\"\n",
        "msg_dict = {}\n",
        "\n",
        "\n",
        "def chat(channels, authorizations):\n",
        "    for authorization in authorizations:\n",
        "        header = {\n",
        "            \"Authorization\": authorization,\n",
        "            \"Content-Type\": \"application/json\",\n",
        "            \"User-Agent\": \"Mozilla/5.0 (Macintosh; Intel Mac OS X 10_15_7) AppleWebKit/537.36 (KHTML, like Gecko) Chrome/96.0.4664.110 Safari/537.36\",\n",
        "        }\n",
        "        for channel_id in channels:\n",
        "            # nonce 一共 18 位数字\n",
        "            nonce = channel_id[:4] + \"\".join(random.choice(\"0123456789\") for _ in range(14))\n",
        "            msg = {\n",
        "                \"content\": get_context(),\n",
        "                \"nonce\": nonce,\n",
        "                \"tts\": False,\n",
        "            }\n",
        "            message_url = \"https://discord.com/api/v9/channels/{}/messages\".format(channel_id)\n",
        "            try:\n",
        "                if is_proxy:\n",
        "                    res = requests.post(url=message_url, headers=header, data=json.dumps(msg), proxies=proxies)\n",
        "                else:\n",
        "                    res = requests.post(url=message_url, headers=header, data=json.dumps(msg), timeout=10)\n",
        "                print(res.content)\n",
        "                print(\"发送成功！！\" + json.dumps(msg))\n",
        "            except:\n",
        "                traceback.print_exc()\n",
        "                continue\n",
        "        # time.sleep(random.randrange(1, 3))\n",
        "        time.sleep(36000)\n",
        "\n",
        "\n",
        "def get_context():\n",
        "    # 默认为这三个消息内容\n",
        "    message_list = [\n",
        "        \"你好\",\n",
        "        \"GM\",\n",
        "        \"Good Project！\",\n",
        "    ]\n",
        "    # 若用户自定义了消息，赋值返回\n",
        "    if globals_message_list:\n",
        "        message_list = globals_message_list\n",
        "    context = random.choice(message_list)\n",
        "    if context not in msg_dict.keys():\n",
        "        msg_dict[context] = 1\n",
        "    else:\n",
        "        msg_dict[context] += 1\n",
        "    count = msg_dict[context]\n",
        "    # 若出现的语言已经发过一次，在发就示意+1\n",
        "    # if count > 1:\n",
        "    #    context = context + \"+1\"\n",
        "    # 若发送消息已经有一半随机到了，清空字典\n",
        "   #  if len(msg_dict) == len(globals_message_list) / 2:\n",
        "     #   msg_dict.clear()\n",
        "    # 随机返回\n",
        "    return context\n",
        "\n",
        "\n",
        "def run():\n",
        "    if not channels_id_list or not authorization_list:\n",
        "        print(\"请完善配置后，在开始运行！\")\n",
        "        return\n",
        "    while True:\n",
        "        try:\n",
        "            chat(channels_id_list, authorization_list)\n",
        "            # sleep_time = random.randrange(time_min, time_max + 1)  # 随机休息间隔，单位s\n",
        "            sleep_time = 36000\n",
        "            time.sleep(sleep_time)\n",
        "        except:\n",
        "            traceback.print_exc()\n",
        "\n",
        "\n",
        "if __name__ == \"__main__\":\n",
        "    run()  # 执行\n"
      ]
    },
    {
      "cell_type": "code",
      "source": [],
      "metadata": {
        "id": "O7T6Mj99uHix"
      },
      "execution_count": null,
      "outputs": []
    },
    {
      "cell_type": "code",
      "source": [],
      "metadata": {
        "id": "0F1ROUIruE5Y"
      },
      "execution_count": null,
      "outputs": []
    },
    {
      "cell_type": "code",
      "source": [],
      "metadata": {
        "id": "B0ZA6W70uDP2"
      },
      "execution_count": null,
      "outputs": []
    }
  ],
  "metadata": {
    "colab": {
      "provenance": [],
      "include_colab_link": true
    },
    "kernelspec": {
      "display_name": "Python 3",
      "name": "python3"
    },
    "language_info": {
      "name": "python"
    }
  },
  "nbformat": 4,
  "nbformat_minor": 0
}